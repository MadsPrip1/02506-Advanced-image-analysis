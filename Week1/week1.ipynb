{
 "cells": [
  {
   "cell_type": "code",
   "execution_count": null,
   "metadata": {},
   "outputs": [],
   "source": [
    "PATH = 'Week1/data/'\n",
    "\n",
    "\n",
    "#from IPython.display import Image \n",
    "#from IPython.core.display import HTML \n",
    "#Image(filename = PATH + \"fibres_xcth.png\", width=556, height=818)\n"
   ]
  },
  {
   "cell_type": "markdown",
   "metadata": {},
   "source": [
    "## Exercise Overview\n",
    "We will experimentally test the statements made in the text above. You may use an existing implementation of convolution, e.g., ```scipy.ndimage.convolve```. However, refrain from using an existing implementation of the Gaussian filtering or functions returning the Gaussian kernel and its derivative."
   ]
  },
  {
   "cell_type": "markdown",
   "metadata": {},
   "source": [
    "## Data"
   ]
  },
  {
   "cell_type": "markdown",
   "metadata": {},
   "source": [
    "For this exercise, you may use any grayscale image. We have provided an X-ray CT image of fibers, ```fibres_xcth.png```, shown in the figure below.\n",
    "\n",
    "<p align=\"center\">\n",
    "  <img src=\"data/fibres_xcth.png\" width=\"300\">\n",
    "</p>"
   ]
  },
  {
   "cell_type": "markdown",
   "metadata": {},
   "source": [
    "## Tasks"
   ]
  },
  {
   "cell_type": "markdown",
   "metadata": {},
   "source": [
    "1. **Create Gaussian kernel**\n",
    "\n",
    "    Gaussian kernels are usually truncated at the value between 3 and 5 times $\\sigma$. You can create a kernel as follows:\n",
    "    \n",
    "    (a) Compute an integer kernel radius $s$ approximately equal to $4 \\sigma$.\n",
    "\n",
    "    (b) Create an array x with integer values centered around 0, that is $x = [−r, . . . , 0, . . . , r]$\n",
    "\n",
    "    (c) Compute the kernel values using the equation below. You may initially compute the values without the normalization term, and normalize the kernel to ensure the sum of all values equals 1.\n",
    "\n",
    "\\begin{equation}\n",
    " g(x;t) = \\frac{1}{\\sqrt{2t\\pi}} \\exp \\left (-\\frac{x^2}{2t} \\right )\n",
    "\\end{equation}"
   ]
  }
 ],
 "metadata": {
  "language_info": {
   "name": "python"
  }
 },
 "nbformat": 4,
 "nbformat_minor": 2
}
