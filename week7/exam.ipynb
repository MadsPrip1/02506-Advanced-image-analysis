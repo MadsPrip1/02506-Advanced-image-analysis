{
 "cells": [
  {
   "cell_type": "code",
   "execution_count": 1,
   "id": "a773a2f1",
   "metadata": {},
   "outputs": [],
   "source": [
    "import numpy as np \n",
    "import matplotlib.pyplot as plt\n",
    "import skimage.io \n",
    "import slgbuilder\n",
    "from PIL import Image\n",
    "\n",
    "# This is to fix deprecated alias in numpy, but still used in slgbuilder\n",
    "np.bool = bool\n",
    "np.int = int\n",
    "\n",
    "import sys\n",
    "sys.path.insert(1, '..')\n",
    "from functions import *\n",
    "\n",
    "PATH = 'data/'"
   ]
  },
  {
   "cell_type": "markdown",
   "id": "ef1e1e13",
   "metadata": {},
   "source": [
    "## Exam 2022"
   ]
  },
  {
   "cell_type": "code",
   "execution_count": 10,
   "id": "e781ff93",
   "metadata": {},
   "outputs": [
    {
     "name": "stdout",
     "output_type": "stream",
     "text": [
      "The segmentation line is: [1 1 1 1 1 1 1 1 1 1]\n",
      "The value path is given as: [43. 25. 56. 66. 21. 21. 32. 21. 39. 53.]\n",
      "The sum of the value path is given as: 377.0\n",
      "The segmentation line is: [4 3 0 0 1 0 1 1 1 3]\n",
      "The value path is given as: [21. 11. 14. 30. 21. 12. 32. 21. 39. 22.]\n",
      "The sum of the value path is given as: 223.0\n",
      "The mean between the two paths is: 1.0\n"
     ]
    },
    {
     "data": {
      "image/png": "[encoded data removed]",
      "text/plain": [
       "<Figure size 640x480 with 1 Axes>"
      ]
     },
     "metadata": {},
     "output_type": "display_data"
    }
   ],
   "source": [
    "I = np.loadtxt('../exam_data/exam2022/cost.txt')\n",
    "delta = 0\n",
    "surface_cost = I  # Example: invert the cost so lower values become higher cost\n",
    "layer = slgbuilder.GraphObject(surface_cost)\n",
    "\n",
    "helper = slgbuilder.MaxflowBuilder()\n",
    "helper.add_object(layer)\n",
    "helper.add_layered_boundary_cost()\n",
    "helper.add_layered_smoothness(delta=delta, wrap=False)\n",
    "\n",
    "helper.solve()\n",
    "segmentation = helper.what_segments(layer)\n",
    "segmentation_line = segmentation.shape[0] - np.argmax(segmentation[::-1,:], axis=0) - 1\n",
    "value_path = I[segmentation_line, np.arange(I.shape[1])]\n",
    "value = np.sum(value_path)\n",
    "\n",
    "print(f'The segmentation line is: {segmentation_line}')\n",
    "print(f'The value path is given as: {value_path}')\n",
    "print(f'The sum of the value path is given as: {value}')\n",
    "\n",
    "plt.imshow(I, cmap='gray')\n",
    "plt.plot(np.arange(len(segmentation_line)), segmentation_line)\n",
    "plt.title(f'Optimal path for delta {delta} with value {value}')\n",
    "\n",
    "segmentation_line_0 = segmentation_line.copy()\n",
    "\n",
    "delta = 5\n",
    "surface_cost = I  # Example: invert the cost so lower values become higher cost\n",
    "layer = slgbuilder.GraphObject(surface_cost)\n",
    "\n",
    "helper = slgbuilder.MaxflowBuilder()\n",
    "helper.add_object(layer)\n",
    "helper.add_layered_boundary_cost()\n",
    "helper.add_layered_smoothness(delta=delta, wrap=False)\n",
    "\n",
    "helper.solve()\n",
    "segmentation = helper.what_segments(layer)\n",
    "segmentation_line = segmentation.shape[0] - np.argmax(segmentation[::-1,:], axis=0) - 1\n",
    "\n",
    "value_path = I[segmentation_line, np.arange(I.shape[1])]\n",
    "value = np.sum(value_path)\n",
    "\n",
    "print(f'The segmentation line is: {segmentation_line}')\n",
    "print(f'The value path is given as: {value_path}')\n",
    "print(f'The sum of the value path is given as: {value}')\n",
    "\n",
    "plt.imshow(I, cmap='gray')\n",
    "plt.plot(np.arange(len(segmentation_line)), segmentation_line)\n",
    "plt.title(f'Optimal path for delta {delta} with value {value}')\n",
    "\n",
    "segmentation_line_5 = segmentation_line.copy()\n",
    "\n",
    "print(f'The mean between the two paths is: {np.mean(np.abs(segmentation_line_0 - segmentation_line_5))}')"
   ]
  },
  {
   "cell_type": "markdown",
   "id": "72b0a21c",
   "metadata": {},
   "source": [
    "Exam 2023"
   ]
  },
  {
   "cell_type": "code",
   "execution_count": null,
   "id": "93afdbe1",
   "metadata": {},
   "outputs": [],
   "source": [
    "I = np.array([[6, 9, 6, 5, 2, 3, 9],\n",
    "              [7, 8, 3, 7, 4, 6, 1],\n",
    "              [2, 8, 5, 6, 9, 5, 4],\n",
    "              [6, 7, 8, 1, 4, 6, 9],\n",
    "              [1, 8, 8, 4, 6, 2, 6],\n",
    "              [5, 2, 3, 7, 3, 6, 8]])\n",
    "# To change the surface cost, modify the array passed to slgbuilder.GraphObject.\n",
    "# For example, to use a different cost matrix (e.g., penalize high values more):\n",
    "delta = 1\n",
    "surface_cost = np.abs(I-5)  # Example: invert the cost so lower values become higher cost\n",
    "layer = slgbuilder.GraphObject(surface_cost)\n",
    "\n",
    "helper = slgbuilder.MaxflowBuilder()\n",
    "helper.add_object(layer)\n",
    "helper.add_layered_boundary_cost()\n",
    "helper.add_layered_smoothness(delta=delta, wrap=False)\n",
    "\n",
    "helper.solve()\n",
    "segmentation = helper.what_segments(layer)\n",
    "segmentation_line = segmentation.shape[0] - np.argmax(segmentation[::-1,:], axis=0) - 1\n",
    "\n",
    "value_path = I[segmentation_line, np.arange(I.shape[1])]\n",
    "value = np.sum(value_path)\n",
    "\n",
    "print(f'The segmentation line is: {segmentation_line}')\n",
    "print(f'The value path is given as: {value_path}')\n",
    "print(f'The sum of the value path is given as: {value}')\n",
    "\n",
    "plt.imshow(I, cmap='gray')\n",
    "plt.plot(np.arange(len(segmentation_line)), segmentation_line)\n",
    "plt.title(f'Optimal path for delta {delta} with value {value}')\n"
   ]
  }
 ],
 "metadata": {
  "kernelspec": {
   "display_name": "slg_legacy",
   "language": "python",
   "name": "python3"
  },
  "language_info": {
   "codemirror_mode": {
    "name": "ipython",
    "version": 3
   },
   "file_extension": ".py",
   "mimetype": "text/x-python",
   "name": "python",
   "nbconvert_exporter": "python",
   "pygments_lexer": "ipython3",
   "version": "3.9.21"
  }
 },
 "nbformat": 4,
 "nbformat_minor": 5
}
